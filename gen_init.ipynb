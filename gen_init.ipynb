{
  "nbformat": 4,
  "nbformat_minor": 0,
  "metadata": {
    "colab": {
      "name": "Untitled0.ipynb",
      "provenance": [],
      "collapsed_sections": []
    },
    "kernelspec": {
      "name": "python3",
      "display_name": "Python 3",
      "language": "python"
    }
  },
  "cells": [
    {
      "cell_type": "code",
      "metadata": {
        "id": "hsUuqrUF91aG"
      },
      "source": [
        "import copy\n",
        "class Slot():\n",
        "\n",
        "    def __init__(self, word, is_core, page_destination):\n",
        "\n",
        "        # word = str que l'on souhaite traiter et placer sur la grille\n",
        "        # is Core = Booléen un indiquant si le mot traité fait parti du vocabulaire core ou non\n",
        "        self.__word = copy.copy(word)\n",
        "        self.__is_core = copy.copy(is_core)\n",
        "        self.__page_destination = copy.copy(page_destination)\n",
        "\n",
        "    # Accesseur\n",
        "    def get_word(self):\n",
        "\n",
        "        return self.__word\n",
        "\n",
        "    # Accesseur\n",
        "    def get_is_core(self):\n",
        "\n",
        "        return self.__is_core\n",
        "\n",
        "    def get_page_destination(self):\n",
        "\n",
        "        return self.__page_destination\n",
        "\n",
        "    def __str__(self):\n",
        "\n",
        "        dest = self.__page_destination\n",
        "        if dest != None:\n",
        "            dest = self.__page_destination.get_name()\n",
        "        return '('+str(self.__word) + ';' + str(self.__is_core) + ';' + str(dest) + ')'\n",
        "\n"
      ],
      "execution_count": 127,
      "outputs": []
    },
    {
      "cell_type": "code",
      "metadata": {
        "id": "8jpKq0PruzrI"
      },
      "source": [
        "class Page():\n",
        "\n",
        "  #Constructor\n",
        "    def __init__(self, name, row_size, col_size):\n",
        "\n",
        "        self.__name = name\n",
        "        self.__row_size = row_size\n",
        "        self.__col_size = col_size\n",
        "        self.__full = False\n",
        "        self.__slots = []\n",
        "        self.__fill()\n",
        "        self.__last_R = 0\n",
        "        self.__last_C = 0\n",
        "\n",
        "    #Initialise chacun des slots à None\n",
        "    def __fill(self):\n",
        "\n",
        "      self.__slots = []\n",
        "      for i in range(0, self.__row_size) :\n",
        "        self.__slots.append([None])\n",
        "        for j in range(0, self.__col_size) :\n",
        "          self.__slots[i].append(None)\n",
        "\n",
        "    # Ajoute le Slot slot en position num_row, num_col et renvoie l'ancienne valeur\n",
        "    def set_slot(self, slot, num_row, num_col):\n",
        "\n",
        "      if (num_row >= self.__row_size) or (num_col >= self.__col_size):\n",
        "        raise Exception('Error: slot row or col out of bounds') \n",
        "      old_value = self.__slots[num_row][num_col]\n",
        "      self.__slots[num_row][num_col]=slot\n",
        "      return old_value\n",
        "\n",
        "    def set_name(self, name):\n",
        "      self.__name = name\n",
        "      return name\n",
        "\n",
        "    # Accessors\n",
        "    def get_name(self):\n",
        "\n",
        "      return self.__name\n",
        "\n",
        "    def get_slot(self, num_row, num_col):\n",
        "\n",
        "      return self.__slots[num_row][num_col]\n",
        "\n",
        "    #Return true if the slot at position (num_row, num_col) is free, false otherwise\n",
        "    def is_free(self, num_row, num_col):\n",
        "\n",
        "      return self.__slots[num_row][num_col] == None\n",
        "\n",
        "    #Return true if table is full, false otherwise\n",
        "    def is_full(self):\n",
        "      if (self.__full):\n",
        "        return True\n",
        "      for row in range(0, self.__row_size):\n",
        "        for col in range (0, self.__col_size):\n",
        "          if self.__slots[row][col] == None:\n",
        "            return False\n",
        "      self.__full = True\n",
        "      return True\n",
        "\n",
        "    def add_word(self, word, core=False, dest=None) :\n",
        "\n",
        "      if(self.__last_C == self.__col_size) : \n",
        "        self.__last_C = 0\n",
        "        self.__last_R += 1\n",
        "      if(self.__last_R == self.__row_size) :\n",
        "        self.__full = True\n",
        "        print(\"Failed to add word <\", word, \">. The table is full.\")\n",
        "        return None\n",
        "\n",
        "      if(self.__slots[self.__last_R][self.__last_C] == None) :\n",
        "\n",
        "        s = Slot(word, core, dest)\n",
        "        self.__slots[self.__last_R][self.__last_C] = s\n",
        "        self.__last_R\n",
        "        self.__last_C += 1\n",
        "        return word\n",
        "      \n",
        "      self.__last_R\n",
        "      self.__last_C += 1\n",
        "      return self.add_word(word)\n",
        "\n",
        "    # Méthode d'affichage (à revoir ? Efficacité chaînes de caractères)\n",
        "    def __str__(self):\n",
        "\n",
        "      s = \"Page: \" + self.__name + \"\\n(\"\n",
        "      for i in range(0, self.__row_size) : \n",
        "        for j in range(0, self.__col_size) :\n",
        "          s+=str(self.__slots[i][j])\n",
        "          s+=\", \"\n",
        "        s+='\\n'\n",
        "      return s+')'\n",
        "\n",
        "    # def show(self):\n",
        "\n",
        "    #   from ipywidgets import GridspecLayout\n",
        "\n",
        "    #   grid = GridspecLayout(self.__row_size, self.__col_size, width='50%')\n",
        "\n",
        "    #   for i in range(self.__row_size):\n",
        "    #     for j in range(self.__col_size):\n",
        "    #       # grid[i, j] = create_expanded_button('Button {} - {}'.format(i, j), 'success')\n",
        "    #       grid[i, j] = create_expanded_button(str(self.__slots[i][j]), 'success')\n",
        "\n",
        "    #   return grid\n",
        "\n"
      ],
      "execution_count": 119,
      "outputs": []
    },
    {
      "cell_type": "code",
      "metadata": {
        "id": "zdA2LhKvjRQx"
      },
      "source": [
        "class Grid():\n",
        "\n",
        "  #Constructor\n",
        "  def __init__(self, row_size, col_size, core_voc):\n",
        "\n",
        "    self.__row_size = row_size\n",
        "    self.__col_size = col_size\n",
        "    self.__core_voc = core_voc\n",
        "    self.__pages = []\n",
        "    self.__pageCounter = 0\n",
        "    self.__add_page2() \n",
        "  \n",
        "\n",
        "  #ToDo\n",
        "  def add_word(word):\n",
        "\n",
        "    return\n",
        "\n",
        "  def __get_last_page(self):\n",
        "\n",
        "    return self.__pages[-1]\n",
        "\n",
        "  # We assume that the word has not been already added\n",
        "  def add_word(self, word):\n",
        "\n",
        "    if self.__pages[-1].is_full() :\n",
        "\n",
        "      self.__add_page2()\n",
        "\n",
        "    self.__pages[-1].add_word(word)\n",
        "\n",
        "    return\n",
        "\n",
        "  def __add_page2(self):\n",
        "\n",
        "    # self.__add_page(str(self.__pageCounter))\n",
        "    page = self.__add_page('accueil')\n",
        "    self.__add_core_voc(page)    \n",
        "\n",
        "  def __add_page(self, name_page):\n",
        "\n",
        "    page = Page(name_page, self.__row_size, self.__col_size)    \n",
        "    self.__pages.append(page)\n",
        "    self.__pageCounter += 1 \n",
        "\n",
        "    return page\n",
        "\n",
        "  def __add_core_voc(self, page):\n",
        "\n",
        "    for i in range(0, len(self.__core_voc)):\n",
        "      \n",
        "      s = Slot(self.__core_voc[i][0], True, None)\n",
        "      num_row = self.__core_voc[i][1]\n",
        "      num_col = self.__core_voc[i][2]\n",
        "      page.set_slot(s, num_row, num_col)\n",
        "\n",
        "  def add_new_page(self, name):\n",
        "\n",
        "    return self.__add_page(name)\n",
        "\n",
        "  #ToDo\n",
        "  def to_graph(self):\n",
        "    \n",
        "    return\n",
        "\n",
        "  #ToDo\n",
        "  def fusion_with(self, grid):\n",
        "\n",
        "    return\n",
        "\n",
        "  def get_nb_pages(self):\n",
        "\n",
        "    return self.__pageCounter\n",
        "  \n",
        "  def page_names(self):\n",
        "    for page in self.__pages:\n",
        "      print(page.get_name(), end=' ')\n",
        "    print()\n",
        "\n",
        "  def get_page(self, name):\n",
        "    for page in self.__pages:\n",
        "      if page.get_name() == name:\n",
        "        return page\n",
        "    raise Exception('Page not found') \n",
        "\n",
        "  # Méthode d'affichage 1\n",
        "  def __str__(self):\n",
        "\n",
        "    s = 'grid : {\\n'\n",
        "    for i in range(0, len(self.__pages)):\n",
        "      s+= str(self.__pages[i]) + '\\n'\n",
        "    s += '}\\n'\n",
        "    return s\n",
        "\n",
        "  # Méthode d'affichage 2\n",
        "  # def display(self):\n",
        "  #   g = []\n",
        "  #   for i in range(len(self.__pages)):\n",
        "  #     g.append(self.__pages[i].show())\n",
        "    \n",
        "  #   return g"
      ],
      "execution_count": 123,
      "outputs": []
    },
    {
      "source": [
        "# TESTING"
      ],
      "cell_type": "markdown",
      "metadata": {}
    },
    {
      "cell_type": "code",
      "execution_count": 1,
      "metadata": {},
      "outputs": [
        {
          "output_type": "stream",
          "name": "stdout",
          "text": [
            "Collecting matplotlib==2.2.3\n",
            "  Using cached https://files.pythonhosted.org/packages/eb/a0/31b6ba00bc4dcbc06f0b80d1ad6119a9cc3081ecb04a00117f6c1ca3a084/matplotlib-2.2.3.tar.gz\n",
            "Collecting numpy>=1.7.1 (from matplotlib==2.2.3)\n",
            "  Using cached https://files.pythonhosted.org/packages/fd/67/ea80d7f693a027854e34a44a4c3e91e0fcdfaa5e8283e7b9c9ee0056c09f/numpy-1.20.2-cp38-cp38-manylinux1_x86_64.whl\n",
            "Collecting cycler>=0.10 (from matplotlib==2.2.3)\n",
            "  Using cached https://files.pythonhosted.org/packages/f7/d2/e07d3ebb2bd7af696440ce7e754c59dd546ffe1bbe732c8ab68b9c834e61/cycler-0.10.0-py2.py3-none-any.whl\n",
            "Collecting pyparsing!=2.0.4,!=2.1.2,!=2.1.6,>=2.0.1 (from matplotlib==2.2.3)\n",
            "  Using cached https://files.pythonhosted.org/packages/8a/bb/488841f56197b13700afd5658fc279a2025a39e22449b7cf29864669b15d/pyparsing-2.4.7-py2.py3-none-any.whl\n",
            "Collecting python-dateutil>=2.1 (from matplotlib==2.2.3)\n",
            "  Using cached https://files.pythonhosted.org/packages/d4/70/d60450c3dd48ef87586924207ae8907090de0b306af2bce5d134d78615cb/python_dateutil-2.8.1-py2.py3-none-any.whl\n",
            "Collecting pytz (from matplotlib==2.2.3)\n",
            "  Using cached https://files.pythonhosted.org/packages/70/94/784178ca5dd892a98f113cdd923372024dc04b8d40abe77ca76b5fb90ca6/pytz-2021.1-py2.py3-none-any.whl\n",
            "Collecting six>=1.10 (from matplotlib==2.2.3)\n",
            "  Using cached https://files.pythonhosted.org/packages/ee/ff/48bde5c0f013094d729fe4b0316ba2a24774b3ff1c52d924a8a4cb04078a/six-1.15.0-py2.py3-none-any.whl\n",
            "Collecting kiwisolver>=1.0.1 (from matplotlib==2.2.3)\n",
            "  Using cached https://files.pythonhosted.org/packages/99/04/41e831621ddec54f99e9e3693b8d4f2f583d7f3ee8df33bf9a7d6bf764de/kiwisolver-1.3.1-cp38-cp38-manylinux1_x86_64.whl\n",
            "Building wheels for collected packages: matplotlib\n",
            "  Running setup.py bdist_wheel for matplotlib ... \u001b[?25ldone\n",
            "\u001b[?25h  Stored in directory: /home/fran/.cache/pip/wheels/08/76/86/68cad2489eccd36beb80adb37c3b260a76058fff95c9bcad19\n",
            "Successfully built matplotlib\n",
            "Installing collected packages: numpy, six, cycler, pyparsing, python-dateutil, pytz, kiwisolver, matplotlib\n",
            "Successfully installed cycler-0.10.0 kiwisolver-1.3.1 matplotlib-3.4.1 numpy-1.20.2 pyparsing-2.4.7 python-dateutil-2.8.1 pytz-2021.1 six-1.15.0\n"
          ]
        }
      ],
      "source": [
        "\n",
        "!python -m pip install matplotlib==2.2.3\n"
      ]
    },
    {
      "cell_type": "code",
      "execution_count": 5,
      "metadata": {},
      "outputs": [
        {
          "output_type": "display_data",
          "data": {
            "text/plain": "<Figure size 432x288 with 1 Axes>",
            "image/svg+xml": "<?xml version=\"1.0\" encoding=\"utf-8\" standalone=\"no\"?>\n<!DOCTYPE svg PUBLIC \"-//W3C//DTD SVG 1.1//EN\"\n  \"http://www.w3.org/Graphics/SVG/1.1/DTD/svg11.dtd\">\n<!-- Created with matplotlib (http://matplotlib.org/) -->\n<svg height=\"322.578125pt\" version=\"1.1\" viewBox=\"0 0 487.545312 322.578125\" width=\"487.545312pt\" xmlns=\"http://www.w3.org/2000/svg\" xmlns:xlink=\"http://www.w3.org/1999/xlink\">\n <defs>\n  <style type=\"text/css\">\n*{stroke-linecap:butt;stroke-linejoin:round;}\n  </style>\n </defs>\n <g id=\"figure_1\">\n  <g id=\"patch_1\">\n   <path d=\"M 0 322.578125 \nL 487.545312 322.578125 \nL 487.545312 0 \nL 0 0 \nz\n\" style=\"fill:#ffffff;\"/>\n  </g>\n  <g id=\"axes_1\">\n   <g id=\"LineCollection_1\">\n    <path clip-path=\"url(#p2180a8c745)\" d=\"M 364.774454 201.268888 \nL 404.632894 281.578879 \n\" style=\"fill:none;stroke:#000000;\"/>\n    <path clip-path=\"url(#p2180a8c745)\" d=\"M 364.774454 201.268888 \nL 323.746837 113.324369 \n\" style=\"fill:none;stroke:#000000;\"/>\n    <path clip-path=\"url(#p2180a8c745)\" d=\"M 364.774454 201.268888 \nL 286.410446 155.162409 \n\" style=\"fill:none;stroke:#000000;\"/>\n    <path clip-path=\"url(#p2180a8c745)\" d=\"M 364.774454 201.268888 \nL 451.410603 168.947638 \n\" style=\"fill:none;stroke:#000000;\"/>\n    <path clip-path=\"url(#p2180a8c745)\" d=\"M 323.746837 113.324369 \nL 189.395936 84.765275 \n\" style=\"fill:none;stroke:#000000;\"/>\n    <path clip-path=\"url(#p2180a8c745)\" d=\"M 286.410446 155.162409 \nL 451.410603 168.947638 \n\" style=\"fill:none;stroke:#000000;\"/>\n    <path clip-path=\"url(#p2180a8c745)\" d=\"M 286.410446 155.162409 \nL 189.395936 84.765275 \n\" style=\"fill:none;stroke:#000000;\"/>\n    <path clip-path=\"url(#p2180a8c745)\" d=\"M 189.395936 84.765275 \nL 70.280022 27.821121 \n\" style=\"fill:none;stroke:#000000;\"/>\n   </g>\n   <g id=\"PathCollection_1\">\n    <defs>\n     <path d=\"M 0 8.660254 \nC 2.296726 8.660254 4.499694 7.747755 6.123724 6.123724 \nC 7.747755 4.499694 8.660254 2.296726 8.660254 0 \nC 8.660254 -2.296726 7.747755 -4.499694 6.123724 -6.123724 \nC 4.499694 -7.747755 2.296726 -8.660254 0 -8.660254 \nC -2.296726 -8.660254 -4.499694 -7.747755 -6.123724 -6.123724 \nC -7.747755 -4.499694 -8.660254 -2.296726 -8.660254 0 \nC -8.660254 2.296726 -7.747755 4.499694 -6.123724 6.123724 \nC -4.499694 7.747755 -2.296726 8.660254 0 8.660254 \nz\n\" id=\"m113ea2a1a9\" style=\"stroke:#ff0000;\"/>\n    </defs>\n    <g clip-path=\"url(#p2180a8c745)\">\n     <use style=\"fill:#ff0000;stroke:#ff0000;\" x=\"364.774454\" xlink:href=\"#m113ea2a1a9\" y=\"201.268888\"/>\n     <use style=\"fill:#ff0000;stroke:#ff0000;\" x=\"404.632894\" xlink:href=\"#m113ea2a1a9\" y=\"281.578879\"/>\n     <use style=\"fill:#ff0000;stroke:#ff0000;\" x=\"323.746837\" xlink:href=\"#m113ea2a1a9\" y=\"113.324369\"/>\n     <use style=\"fill:#ff0000;stroke:#ff0000;\" x=\"286.410446\" xlink:href=\"#m113ea2a1a9\" y=\"155.162409\"/>\n     <use style=\"fill:#ff0000;stroke:#ff0000;\" x=\"451.410603\" xlink:href=\"#m113ea2a1a9\" y=\"168.947638\"/>\n     <use style=\"fill:#ff0000;stroke:#ff0000;\" x=\"189.395936\" xlink:href=\"#m113ea2a1a9\" y=\"84.765275\"/>\n     <use style=\"fill:#ff0000;stroke:#ff0000;\" x=\"70.280022\" xlink:href=\"#m113ea2a1a9\" y=\"27.821121\"/>\n    </g>\n   </g>\n   <g id=\"text_1\">\n    <g clip-path=\"url(#p2180a8c745)\">\n     <!-- a -->\n     <defs>\n      <path d=\"M 34.28125 27.484375 \nQ 23.390625 27.484375 19.1875 25 \nQ 14.984375 22.515625 14.984375 16.5 \nQ 14.984375 11.71875 18.140625 8.90625 \nQ 21.296875 6.109375 26.703125 6.109375 \nQ 34.1875 6.109375 38.703125 11.40625 \nQ 43.21875 16.703125 43.21875 25.484375 \nL 43.21875 27.484375 \nz\nM 52.203125 31.203125 \nL 52.203125 0 \nL 43.21875 0 \nL 43.21875 8.296875 \nQ 40.140625 3.328125 35.546875 0.953125 \nQ 30.953125 -1.421875 24.3125 -1.421875 \nQ 15.921875 -1.421875 10.953125 3.296875 \nQ 6 8.015625 6 15.921875 \nQ 6 25.140625 12.171875 29.828125 \nQ 18.359375 34.515625 30.609375 34.515625 \nL 43.21875 34.515625 \nL 43.21875 35.40625 \nQ 43.21875 41.609375 39.140625 45 \nQ 35.0625 48.390625 27.6875 48.390625 \nQ 23 48.390625 18.546875 47.265625 \nQ 14.109375 46.140625 10.015625 43.890625 \nL 10.015625 52.203125 \nQ 14.9375 54.109375 19.578125 55.046875 \nQ 24.21875 56 28.609375 56 \nQ 40.484375 56 46.34375 49.84375 \nQ 52.203125 43.703125 52.203125 31.203125 \nz\n\" id=\"DejaVuSans-61\"/>\n     </defs>\n     <g transform=\"translate(361.097579 204.580138)scale(0.12 -0.12)\">\n      <use xlink:href=\"#DejaVuSans-61\"/>\n     </g>\n    </g>\n   </g>\n   <g id=\"text_2\">\n    <g clip-path=\"url(#p2180a8c745)\">\n     <!-- b -->\n     <defs>\n      <path d=\"M 48.6875 27.296875 \nQ 48.6875 37.203125 44.609375 42.84375 \nQ 40.53125 48.484375 33.40625 48.484375 \nQ 26.265625 48.484375 22.1875 42.84375 \nQ 18.109375 37.203125 18.109375 27.296875 \nQ 18.109375 17.390625 22.1875 11.75 \nQ 26.265625 6.109375 33.40625 6.109375 \nQ 40.53125 6.109375 44.609375 11.75 \nQ 48.6875 17.390625 48.6875 27.296875 \nz\nM 18.109375 46.390625 \nQ 20.953125 51.265625 25.265625 53.625 \nQ 29.59375 56 35.59375 56 \nQ 45.5625 56 51.78125 48.09375 \nQ 58.015625 40.1875 58.015625 27.296875 \nQ 58.015625 14.40625 51.78125 6.484375 \nQ 45.5625 -1.421875 35.59375 -1.421875 \nQ 29.59375 -1.421875 25.265625 0.953125 \nQ 20.953125 3.328125 18.109375 8.203125 \nL 18.109375 0 \nL 9.078125 0 \nL 9.078125 75.984375 \nL 18.109375 75.984375 \nz\n\" id=\"DejaVuSans-62\"/>\n     </defs>\n     <g transform=\"translate(400.823831 284.890129)scale(0.12 -0.12)\">\n      <use xlink:href=\"#DejaVuSans-62\"/>\n     </g>\n    </g>\n   </g>\n   <g id=\"text_3\">\n    <g clip-path=\"url(#p2180a8c745)\">\n     <!-- c -->\n     <defs>\n      <path d=\"M 48.78125 52.59375 \nL 48.78125 44.1875 \nQ 44.96875 46.296875 41.140625 47.34375 \nQ 37.3125 48.390625 33.40625 48.390625 \nQ 24.65625 48.390625 19.8125 42.84375 \nQ 14.984375 37.3125 14.984375 27.296875 \nQ 14.984375 17.28125 19.8125 11.734375 \nQ 24.65625 6.203125 33.40625 6.203125 \nQ 37.3125 6.203125 41.140625 7.25 \nQ 44.96875 8.296875 48.78125 10.40625 \nL 48.78125 2.09375 \nQ 45.015625 0.34375 40.984375 -0.53125 \nQ 36.96875 -1.421875 32.421875 -1.421875 \nQ 20.0625 -1.421875 12.78125 6.34375 \nQ 5.515625 14.109375 5.515625 27.296875 \nQ 5.515625 40.671875 12.859375 48.328125 \nQ 20.21875 56 33.015625 56 \nQ 37.15625 56 41.109375 55.140625 \nQ 45.0625 54.296875 48.78125 52.59375 \nz\n\" id=\"DejaVuSans-63\"/>\n     </defs>\n     <g transform=\"translate(320.447775 116.635619)scale(0.12 -0.12)\">\n      <use xlink:href=\"#DejaVuSans-63\"/>\n     </g>\n    </g>\n   </g>\n   <g id=\"text_4\">\n    <g clip-path=\"url(#p2180a8c745)\">\n     <!-- 1 -->\n     <defs>\n      <path d=\"M 12.40625 8.296875 \nL 28.515625 8.296875 \nL 28.515625 63.921875 \nL 10.984375 60.40625 \nL 10.984375 69.390625 \nL 28.421875 72.90625 \nL 38.28125 72.90625 \nL 38.28125 8.296875 \nL 54.390625 8.296875 \nL 54.390625 0 \nL 12.40625 0 \nz\n\" id=\"DejaVuSans-31\"/>\n     </defs>\n     <g transform=\"translate(282.592946 158.473659)scale(0.12 -0.12)\">\n      <use xlink:href=\"#DejaVuSans-31\"/>\n     </g>\n    </g>\n   </g>\n   <g id=\"text_5\">\n    <g clip-path=\"url(#p2180a8c745)\">\n     <!-- 2 -->\n     <defs>\n      <path d=\"M 19.1875 8.296875 \nL 53.609375 8.296875 \nL 53.609375 0 \nL 7.328125 0 \nL 7.328125 8.296875 \nQ 12.9375 14.109375 22.625 23.890625 \nQ 32.328125 33.6875 34.8125 36.53125 \nQ 39.546875 41.84375 41.421875 45.53125 \nQ 43.3125 49.21875 43.3125 52.78125 \nQ 43.3125 58.59375 39.234375 62.25 \nQ 35.15625 65.921875 28.609375 65.921875 \nQ 23.96875 65.921875 18.8125 64.3125 \nQ 13.671875 62.703125 7.8125 59.421875 \nL 7.8125 69.390625 \nQ 13.765625 71.78125 18.9375 73 \nQ 24.125 74.21875 28.421875 74.21875 \nQ 39.75 74.21875 46.484375 68.546875 \nQ 53.21875 62.890625 53.21875 53.421875 \nQ 53.21875 48.921875 51.53125 44.890625 \nQ 49.859375 40.875 45.40625 35.40625 \nQ 44.1875 33.984375 37.640625 27.21875 \nQ 31.109375 20.453125 19.1875 8.296875 \nz\n\" id=\"DejaVuSans-32\"/>\n     </defs>\n     <g transform=\"translate(447.593103 172.258888)scale(0.12 -0.12)\">\n      <use xlink:href=\"#DejaVuSans-32\"/>\n     </g>\n    </g>\n   </g>\n   <g id=\"text_6\">\n    <g clip-path=\"url(#p2180a8c745)\">\n     <!-- d -->\n     <defs>\n      <path d=\"M 45.40625 46.390625 \nL 45.40625 75.984375 \nL 54.390625 75.984375 \nL 54.390625 0 \nL 45.40625 0 \nL 45.40625 8.203125 \nQ 42.578125 3.328125 38.25 0.953125 \nQ 33.9375 -1.421875 27.875 -1.421875 \nQ 17.96875 -1.421875 11.734375 6.484375 \nQ 5.515625 14.40625 5.515625 27.296875 \nQ 5.515625 40.1875 11.734375 48.09375 \nQ 17.96875 56 27.875 56 \nQ 33.9375 56 38.25 53.625 \nQ 42.578125 51.265625 45.40625 46.390625 \nz\nM 14.796875 27.296875 \nQ 14.796875 17.390625 18.875 11.75 \nQ 22.953125 6.109375 30.078125 6.109375 \nQ 37.203125 6.109375 41.296875 11.75 \nQ 45.40625 17.390625 45.40625 27.296875 \nQ 45.40625 37.203125 41.296875 42.84375 \nQ 37.203125 48.484375 30.078125 48.484375 \nQ 22.953125 48.484375 18.875 42.84375 \nQ 14.796875 37.203125 14.796875 27.296875 \nz\n\" id=\"DejaVuSans-64\"/>\n     </defs>\n     <g transform=\"translate(185.586873 88.076525)scale(0.12 -0.12)\">\n      <use xlink:href=\"#DejaVuSans-64\"/>\n     </g>\n    </g>\n   </g>\n   <g id=\"text_7\">\n    <g clip-path=\"url(#p2180a8c745)\">\n     <!-- e -->\n     <defs>\n      <path d=\"M 56.203125 29.59375 \nL 56.203125 25.203125 \nL 14.890625 25.203125 \nQ 15.484375 15.921875 20.484375 11.0625 \nQ 25.484375 6.203125 34.421875 6.203125 \nQ 39.59375 6.203125 44.453125 7.46875 \nQ 49.3125 8.734375 54.109375 11.28125 \nL 54.109375 2.78125 \nQ 49.265625 0.734375 44.1875 -0.34375 \nQ 39.109375 -1.421875 33.890625 -1.421875 \nQ 20.796875 -1.421875 13.15625 6.1875 \nQ 5.515625 13.8125 5.515625 26.8125 \nQ 5.515625 40.234375 12.765625 48.109375 \nQ 20.015625 56 32.328125 56 \nQ 43.359375 56 49.78125 48.890625 \nQ 56.203125 41.796875 56.203125 29.59375 \nz\nM 47.21875 32.234375 \nQ 47.125 39.59375 43.09375 43.984375 \nQ 39.0625 48.390625 32.421875 48.390625 \nQ 24.90625 48.390625 20.390625 44.140625 \nQ 15.875 39.890625 15.1875 32.171875 \nz\n\" id=\"DejaVuSans-65\"/>\n     </defs>\n     <g transform=\"translate(66.588147 31.132371)scale(0.12 -0.12)\">\n      <use xlink:href=\"#DejaVuSans-65\"/>\n     </g>\n    </g>\n   </g>\n  </g>\n </g>\n <defs>\n  <clipPath id=\"p2180a8c745\">\n   <rect height=\"288\" width=\"432\" x=\"44.845312\" y=\"10.7\"/>\n  </clipPath>\n </defs>\n</svg>\n",
            "image/png": "[encoded data removed]"
          },
          "metadata": {}
        }
      ],
      "source": [
        "import networkx as nx\n",
        "import matplotlib.pyplot as plt\n",
        "\n",
        "\n",
        "G=nx.Graph()\n",
        "G.add_node(\"a\")\n",
        "G.add_nodes_from([\"b\",\"c\"])\n",
        "\n",
        "G.add_edge(1,2)\n",
        "edge = (\"d\", \"e\")\n",
        "G.add_edge(*edge)\n",
        "edge = (\"a\", \"b\")\n",
        "G.add_edge(*edge)\n",
        "# adding a list of edges:\n",
        "G.add_edges_from([(\"a\",\"c\"),(\"c\",\"d\"), (\"a\",1), (1,\"d\"), (\"a\",2)])\n",
        "\n",
        "nx.draw(G,with_labels=True)\n",
        "# plt.savefig(\"simple_path.png\") # save as png\n",
        "plt.show() # display"
      ]
    },
    {
      "cell_type": "code",
      "execution_count": 129,
      "metadata": {},
      "outputs": [
        {
          "output_type": "stream",
          "name": "stdout",
          "text": [
            "grid : {\nPage: accueil\n((vouloir;True;None), (je;True;None), (h;True;None), \n(pourquoi;True;None), (quoi;True;None), None, \n)\nPage: page2\n((hello;False;None), None, None, \nNone, None, None, \n)\n}\n\ngrid : {\nPage: accueil\n((vouloir;True;None), (je;True;None), (h;True;None), \n(pourquoi;True;None), (quoi;True;None), None, \n)\nPage: page2\n((hello;False;None), None, None, \nNone, None, None, \n)\nPage: page3\n((HI;False;page2), None, None, \nNone, None, None, \n)\n}\n\n"
          ]
        }
      ],
      "source": [
        "c_v = [[\"je\", 0, 1], [\"vouloir\", 0, 0], [\"quoi\", 1, 1], [\"pourquoi\", 1, 0], [\"h\",0,2]]\n",
        "g = Grid(2,3, c_v)\n",
        "np2 = g.add_new_page('page2')\n",
        "np2.add_word('hello')\n",
        "print(g)\n",
        "np3 = g.add_new_page('page3')\n",
        "np3.add_word('HI', False, np2)\n",
        "print(g)\n"
      ]
    },
    {
      "cell_type": "code",
      "execution_count": 141,
      "metadata": {},
      "outputs": [],
      "source": [
        "from ipywidgets import GridspecLayout\n",
        "def show():\n",
        "    l = []  \n",
        "    for a in range(2, 4):\n",
        "      grid = GridspecLayout(a, a, width='50%')\n",
        "\n",
        "      for i in range(a):\n",
        "        for j in range(a):\n",
        "          grid[i, j] = create_expanded_button('Button {} - {}'.format(i, j), 'success')\n",
        "        #   grid[i, j] = create_expanded_button(str(self.__slots[i][j]), 'success')\n",
        "      l.append(grid)\n",
        "    return l\n",
        "\n",
        "# b = show()\n",
        "# b[0]\n"
      ]
    },
    {
      "cell_type": "code",
      "execution_count": 91,
      "metadata": {},
      "outputs": [
        {
          "output_type": "stream",
          "name": "stdout",
          "text": [
            "grid : {\nPage: 0\n((vouloir;True;None), (je;True;None), (h;True;None), \n(pourquoi;True;None), (quoi;True;None), None, \n)\n}\n\ngrid : {\nPage: 0\n((vouloir;True;None), (je;True;None), (h;True;None), \n(pourquoi;True;None), (quoi;True;None), None, \n)\nPage: page2\n(None, None, None, \nNone, None, None, \n)\n}\n\n"
          ]
        }
      ],
      "source": [
        "c_v = [[\"je\", 0, 1], [\"vouloir\", 0, 0], [\"quoi\", 1, 1], [\"pourquoi\", 1, 0], [\"h\",0,2]]\n",
        "g = Grid(2,3, c_v)\n",
        "print(g)\n",
        "g.add_new_page('page2')\n",
        "print(g)\n",
        "\n"
      ]
    },
    {
      "cell_type": "code",
      "execution_count": 29,
      "metadata": {},
      "outputs": [],
      "source": [
        "from ipywidgets import Button, Layout, jslink, IntText, IntSlider\n",
        "\n",
        "def create_expanded_button(description, button_style):\n",
        "    return Button(description=description, button_style=button_style, layout=Layout(height='auto', width='auto'))\n",
        "\n",
        "# top_left_button = create_expanded_button(\"Top left\", 'info')\n",
        "# top_right_button = create_expanded_button(\"Top right\", 'success')\n",
        "# bottom_left_button = create_expanded_button(\"Bottom left\", 'danger')\n",
        "# bottom_right_button = create_expanded_button(\"Bottom right\", 'warning')\n",
        "\n",
        "# top_left_text = IntText(description='Top left', layout=Layout(width='auto', height='auto'))\n",
        "# top_right_text = IntText(description='Top right', layout=Layout(width='auto', height='auto'))\n",
        "# bottom_left_slider = IntSlider(description='Bottom left', layout=Layout(width='auto', height='auto'))\n",
        "# bottom_right_slider = IntSlider(description='Bottom right', layout=Layout(width='auto', height='auto'))"
      ]
    },
    {
      "cell_type": "code",
      "execution_count": 33,
      "metadata": {},
      "outputs": [
        {
          "output_type": "display_data",
          "data": {
            "text/plain": "GridspecLayout(children=(Button(button_style='success', description='Button 0 - 0', layout=Layout(grid_area='w…",
            "application/vnd.jupyter.widget-view+json": {
              "version_major": 2,
              "version_minor": 0,
              "model_id": "7ab88378c9984c959d42205e9f093f8a"
            }
          },
          "metadata": {}
        }
      ],
      "source": []
    },
    {
      "cell_type": "code",
      "metadata": {
        "colab": {
          "base_uri": "https://localhost:8080/"
        },
        "id": "YVWE61adHkjY",
        "outputId": "1c37a87f-239a-4359-c16a-896f4ff04032"
      },
      "source": [
        "p = Page(\"animaux\", 2, 2)\n",
        "print(p)\n",
        "print(p.is_full())\n",
        "print(p.add_word(\"chat\"))\n",
        "print(p)\n",
        "print(p.is_full())\n",
        "print(p.add_word(\"chien\"))\n",
        "print(p)\n",
        "print(p.is_full())\n",
        "print(p.add_word(\"cheval\"))\n",
        "print(p)\n",
        "print(p.is_full())\n",
        "print(p.add_word(\"oiseau\"))\n",
        "print(p)\n",
        "print(p.is_full())\n",
        "print(p.add_word(\"dromadaire\"))\n",
        "print(p)\n",
        "print(p.is_full())\n",
        "print(p.add_word(\"chameau\"))\n",
        "print(p)\n",
        "print(p.is_full())\n"
      ],
      "execution_count": 3,
      "outputs": [
        {
          "output_type": "stream",
          "name": "stdout",
          "text": [
            "Page: animaux\n(None, None, \nNone, None, \n)\nFalse\nchat\nPage: animaux\n((chat;False;None), None, \nNone, None, \n)\nFalse\nchien\nPage: animaux\n((chat;False;None), (chien;False;None), \nNone, None, \n)\nFalse\ncheval\nPage: animaux\n((chat;False;None), (chien;False;None), \n(cheval;False;None), None, \n)\nFalse\noiseau\nPage: animaux\n((chat;False;None), (chien;False;None), \n(cheval;False;None), (oiseau;False;None), \n)\nTrue\nFailed to add word < dromadaire >. The table is full.\nNone\nPage: animaux\n((chat;False;None), (chien;False;None), \n(cheval;False;None), (oiseau;False;None), \n)\nTrue\nFailed to add word < chameau >. The table is full.\nNone\nPage: animaux\n((chat;False;None), (chien;False;None), \n(cheval;False;None), (oiseau;False;None), \n)\nTrue\n"
          ]
        }
      ]
    },
    {
      "cell_type": "code",
      "metadata": {
        "id": "7mO4nGNH_k48"
      },
      "source": [
        "s = Slot(\"chien\", True, \"\")\n",
        "s2 = Slot(\"chat\", False, \"\")\n",
        "p = Page(\"animaux\",3,4)\n",
        "print(p.get_slot(1,2))\n",
        "print(p.set_slot(s, 1,2))\n",
        "print(p.get_slot(1,2))\n",
        "print(p.set_slot(s, 1,2))\n",
        "print(p.get_slot(1,2))\n",
        "print(p.set_slot(s2, 1,2))\n",
        "print(p.get_slot(1,2))\n",
        "print(p)\n",
        "print(p.get_name())\n",
        "p.set_name(\"véhicules\")\n",
        "print(p)\n",
        "print(p.get_name())\n",
        "print(p.is_free(1,2))\n",
        "print(p.is_free(2,2))\n",
        "print(p.is_full())\n",
        "\n"
      ],
      "execution_count": 4,
      "outputs": [
        {
          "output_type": "stream",
          "name": "stdout",
          "text": [
            "None\nNone\n(chien;True;)\n(chien;True;)\n(chien;True;)\n(chien;True;)\n(chat;False;)\nPage: animaux\n(None, None, None, None, \nNone, None, (chat;False;), None, \nNone, None, None, None, \n)\nanimaux\nPage: véhicules\n(None, None, None, None, \nNone, None, (chat;False;), None, \nNone, None, None, None, \n)\nvéhicules\nFalse\nTrue\nFalse\n"
          ]
        }
      ]
    },
    {
      "cell_type": "code",
      "metadata": {
        "colab": {
          "base_uri": "https://localhost:8080/"
        },
        "id": "4Cx6rElumxVd",
        "outputId": "db4dc79d-ff4b-40af-bdbe-22d2ed1d7099"
      },
      "source": [
        "# TESTING\n",
        "# g = Grid(3,4, [[\"je\", 0, 1], [\"vouloir\", 0, 0], [\"quoi\", 1, 1], [\"pourquoi\", 1, 0]])\n",
        "# print(g)\n",
        "# g.add_word(\"chien\")\n",
        "# print(g)\n",
        "# g.add_word(\"chien\")\n",
        "# print(g)\n",
        "# g.add_word(\"chien\")\n",
        "# print(g)\n",
        "# g.get_number_pages()\n"
      ],
      "execution_count": 7,
      "outputs": []
    }
  ]
}